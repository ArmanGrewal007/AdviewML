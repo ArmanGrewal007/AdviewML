{
 "cells": [
  {
   "cell_type": "markdown",
   "metadata": {},
   "source": [
    "# Project: Youtube Adview prediction\n"
   ]
  },
  {
   "cell_type": "markdown",
   "metadata": {},
   "source": [
    "## Prerequisites"
   ]
  },
  {
   "cell_type": "markdown",
   "metadata": {},
   "source": [
    "Run to double check if all necessary libraries are already installed -"
   ]
  },
  {
   "cell_type": "code",
   "execution_count": 44,
   "metadata": {},
   "outputs": [],
   "source": [
    "## Remove the --quiet flag to get more info\n",
    "# ! pip install numpy pandas matplotlib seaborn sklearn keras --upgrade --quiet"
   ]
  },
  {
   "cell_type": "markdown",
   "metadata": {},
   "source": [
    "To download the dataset if not already provided - <br>\n",
    "You can download manually from [here](https://drive.google.com/file/d/1Dv-HF10AUUA03AO_cQvar462eXawk0iQ/view), or uncomment and run the below command and output will be saved in `test.csv` file"
   ]
  },
  {
   "cell_type": "code",
   "execution_count": 45,
   "metadata": {},
   "outputs": [
    {
     "data": {
      "text/plain": [
       "\" FEEL FREE TO SAVE THIS CODE AND USE IT ANYWHERE ELSE, AS IT DOESN'T NEED ANY 3RD PARTY LIBRARIES ;) \""
      ]
     },
     "execution_count": 45,
     "metadata": {},
     "output_type": "execute_result"
    }
   ],
   "source": [
    "''' Run this code to download the dataset from google drive '''\n",
    "''' FEEL FREE TO SAVE THIS CODE AND USE IT ANYWHERE ELSE, AS IT DOESN'T NEED ANY 3RD PARTY LIBRARIES ;) '''\n",
    "# import requests\n",
    "\n",
    "# def download_file_from_google_drive(id, destination):\n",
    "#     URL = \"https://docs.google.com/uc?export=download\"\n",
    "#     session = requests.Session()\n",
    "#     response = session.get(URL, params = { 'id' : id }, stream = True)\n",
    "#     token = get_confirm_token(response)\n",
    "#     if token:\n",
    "#         params = { 'id' : id, 'confirm' : token }\n",
    "#         response = session.get(URL, params = params, stream = True)\n",
    "#     save_response_content(response, destination)    \n",
    "\n",
    "# def get_confirm_token(response):\n",
    "#     for key, value in response.cookies.items():\n",
    "#         if key.startswith('download_warning'):\n",
    "#             return value\n",
    "#     return None\n",
    "\n",
    "# def save_response_content(response, destination):\n",
    "#     CHUNK_SIZE = 32768\n",
    "#     with open(destination, \"wb\") as f:\n",
    "#         for chunk in response.iter_content(CHUNK_SIZE):\n",
    "#             if chunk: # filter out keep-alive new chunks\n",
    "#                 f.write(chunk)\n",
    "\n",
    "# url = \"https://drive.google.com/file/d/1Dv-HF10AUUA03AO_cQvar462eXawk0iQ/view\"\n",
    "# file_id = url.split('/')[5] # extract the url_id from URL\n",
    "# destination = \"./test.csv\"\n",
    "# download_file_from_google_drive(file_id, destination)"
   ]
  },
  {
   "cell_type": "markdown",
   "metadata": {},
   "source": [
    "Import all necessary files"
   ]
  },
  {
   "cell_type": "code",
   "execution_count": 46,
   "metadata": {},
   "outputs": [],
   "source": [
    "import numpy as np\n",
    "import pandas as pd\n",
    "import matplotlib.pyplot as plt\n",
    "import seaborn as sns\n",
    "# Rest ML imports (sklearn and keras) are done when needed, to make it easier for you to understand their job"
   ]
  },
  {
   "cell_type": "markdown",
   "metadata": {},
   "source": [
    "## Data preparation"
   ]
  },
  {
   "cell_type": "markdown",
   "metadata": {},
   "source": [
    "### Information about the dataset: \n"
   ]
  },
  {
   "cell_type": "code",
   "execution_count": 47,
   "metadata": {},
   "outputs": [
    {
     "name": "stdout",
     "output_type": "stream",
     "text": [
      "Index(['vidid', 'adview', 'views', 'likes', 'dislikes', 'comment', 'published',\n",
      "       'duration', 'category'],\n",
      "      dtype='object')\n"
     ]
    }
   ],
   "source": [
    "dataset = pd.read_csv(\"test.csv\")\n",
    "print(dataset.columns)"
   ]
  },
  {
   "cell_type": "markdown",
   "metadata": {},
   "source": [
    "There are a number of columns in the dataset - \n",
    "1. **vidid** : Unique identification id of each video.\n",
    "2. **adview** : The number of adviews for each video.\n",
    "3. **views** : The number of unique views for each video.\n",
    "4. **likes** : The number of likes for each video.\n",
    "5. **dislikes** : The number of likes for each video.\n",
    "6. **comment** : The number of unique comments for each video.\n",
    "7. **published** : The data of uploading the video.\n",
    "8. **duration** : The duration of the video (in min. and seconds).\n",
    "9. **category** : Category niche of each of the video."
   ]
  },
  {
   "cell_type": "code",
   "execution_count": 48,
   "metadata": {},
   "outputs": [
    {
     "name": "stdout",
     "output_type": "stream",
     "text": [
      "<class 'pandas.core.frame.DataFrame'>\n",
      "RangeIndex: 14999 entries, 0 to 14998\n",
      "Data columns (total 9 columns):\n",
      " #   Column     Non-Null Count  Dtype \n",
      "---  ------     --------------  ----- \n",
      " 0   vidid      14999 non-null  object\n",
      " 1   adview     14999 non-null  int64 \n",
      " 2   views      14999 non-null  object\n",
      " 3   likes      14999 non-null  object\n",
      " 4   dislikes   14999 non-null  object\n",
      " 5   comment    14999 non-null  object\n",
      " 6   published  14999 non-null  object\n",
      " 7   duration   14999 non-null  object\n",
      " 8   category   14999 non-null  object\n",
      "dtypes: int64(1), object(8)\n",
      "memory usage: 1.0+ MB\n",
      "None\n"
     ]
    }
   ],
   "source": [
    "print(dataset.info())\n",
    "# print(f\"missing values: \\n{data.isna().sum()}\")"
   ]
  },
  {
   "cell_type": "markdown",
   "metadata": {},
   "source": [
    "Some columns' data types need to be changed ..."
   ]
  },
  {
   "cell_type": "code",
   "execution_count": 49,
   "metadata": {},
   "outputs": [
    {
     "name": "stdout",
     "output_type": "stream",
     "text": [
      "vidid                object\n",
      "adview                int64\n",
      "views                 int64\n",
      "likes                 int64\n",
      "dislikes              int64\n",
      "comment               int64\n",
      "published    datetime64[ns]\n",
      "duration             object\n",
      "category             object\n",
      "dtype: object\n"
     ]
    }
   ],
   "source": [
    "dataset[[\"views\", \"likes\", \"dislikes\", \"comment\"]] = dataset[[\"views\", \"likes\", \"dislikes\", \"comment\"]].replace(\"F\", 0)\n",
    "# dataset[\"views\"] = dataset[dataset.views!=\"F\"] # Another way\n",
    "dataset[\"views\"]     = pd.to_numeric(dataset[\"views\"])\n",
    "dataset[\"likes\"]     = pd.to_numeric(dataset[\"likes\"])\n",
    "dataset[\"dislikes\"]  = pd.to_numeric(dataset[\"dislikes\"])\n",
    "dataset[\"comment\"]   = pd.to_numeric(dataset[\"comment\"])\n",
    "dataset[\"published\"] = pd.to_datetime(dataset[\"published\"])\n",
    "\n",
    "print(dataset.dtypes)"
   ]
  },
  {
   "cell_type": "markdown",
   "metadata": {},
   "source": [
    "Assigning each category a number ..."
   ]
  },
  {
   "cell_type": "code",
   "execution_count": 50,
   "metadata": {},
   "outputs": [
    {
     "data": {
      "text/html": [
       "<div>\n",
       "<style scoped>\n",
       "    .dataframe tbody tr th:only-of-type {\n",
       "        vertical-align: middle;\n",
       "    }\n",
       "\n",
       "    .dataframe tbody tr th {\n",
       "        vertical-align: top;\n",
       "    }\n",
       "\n",
       "    .dataframe thead th {\n",
       "        text-align: right;\n",
       "    }\n",
       "</style>\n",
       "<table border=\"1\" class=\"dataframe\">\n",
       "  <thead>\n",
       "    <tr style=\"text-align: right;\">\n",
       "      <th></th>\n",
       "      <th>vidid</th>\n",
       "      <th>adview</th>\n",
       "      <th>views</th>\n",
       "      <th>likes</th>\n",
       "      <th>dislikes</th>\n",
       "      <th>comment</th>\n",
       "      <th>published</th>\n",
       "      <th>duration</th>\n",
       "      <th>category</th>\n",
       "    </tr>\n",
       "  </thead>\n",
       "  <tbody>\n",
       "    <tr>\n",
       "      <th>0</th>\n",
       "      <td>VID_18655</td>\n",
       "      <td>40</td>\n",
       "      <td>1031602</td>\n",
       "      <td>8523</td>\n",
       "      <td>363</td>\n",
       "      <td>1095</td>\n",
       "      <td>2016-09-14</td>\n",
       "      <td>PT7M37S</td>\n",
       "      <td>6</td>\n",
       "    </tr>\n",
       "    <tr>\n",
       "      <th>1</th>\n",
       "      <td>VID_14135</td>\n",
       "      <td>2</td>\n",
       "      <td>1707</td>\n",
       "      <td>56</td>\n",
       "      <td>2</td>\n",
       "      <td>6</td>\n",
       "      <td>2016-10-01</td>\n",
       "      <td>PT9M30S</td>\n",
       "      <td>4</td>\n",
       "    </tr>\n",
       "    <tr>\n",
       "      <th>2</th>\n",
       "      <td>VID_2187</td>\n",
       "      <td>1</td>\n",
       "      <td>2023</td>\n",
       "      <td>25</td>\n",
       "      <td>0</td>\n",
       "      <td>2</td>\n",
       "      <td>2016-07-02</td>\n",
       "      <td>PT2M16S</td>\n",
       "      <td>3</td>\n",
       "    </tr>\n",
       "    <tr>\n",
       "      <th>3</th>\n",
       "      <td>VID_23096</td>\n",
       "      <td>6</td>\n",
       "      <td>620860</td>\n",
       "      <td>777</td>\n",
       "      <td>161</td>\n",
       "      <td>153</td>\n",
       "      <td>2016-07-27</td>\n",
       "      <td>PT4M22S</td>\n",
       "      <td>8</td>\n",
       "    </tr>\n",
       "    <tr>\n",
       "      <th>4</th>\n",
       "      <td>VID_10175</td>\n",
       "      <td>1</td>\n",
       "      <td>666</td>\n",
       "      <td>1</td>\n",
       "      <td>0</td>\n",
       "      <td>0</td>\n",
       "      <td>2016-06-29</td>\n",
       "      <td>PT31S</td>\n",
       "      <td>4</td>\n",
       "    </tr>\n",
       "  </tbody>\n",
       "</table>\n",
       "</div>"
      ],
      "text/plain": [
       "       vidid  adview    views  likes  dislikes  comment  published duration  \\\n",
       "0  VID_18655      40  1031602   8523       363     1095 2016-09-14  PT7M37S   \n",
       "1  VID_14135       2     1707     56         2        6 2016-10-01  PT9M30S   \n",
       "2   VID_2187       1     2023     25         0        2 2016-07-02  PT2M16S   \n",
       "3  VID_23096       6   620860    777       161      153 2016-07-27  PT4M22S   \n",
       "4  VID_10175       1      666      1         0        0 2016-06-29    PT31S   \n",
       "\n",
       "   category  \n",
       "0         6  \n",
       "1         4  \n",
       "2         3  \n",
       "3         8  \n",
       "4         4  "
      ]
     },
     "execution_count": 50,
     "metadata": {},
     "output_type": "execute_result"
    }
   ],
   "source": [
    "category = {'A':1, 'B':2, 'C':3, 'D':4, 'E':5, 'F':6, 'G':7, 'H':8}\n",
    "dataset[\"category\"] = dataset[\"category\"].map(category)\n",
    "dataset.head()"
   ]
  },
  {
   "cell_type": "markdown",
   "metadata": {},
   "source": [
    "Encoding vidid, published and duration using sklearn ..."
   ]
  },
  {
   "cell_type": "code",
   "execution_count": 51,
   "metadata": {},
   "outputs": [
    {
     "data": {
      "text/html": [
       "<div>\n",
       "<style scoped>\n",
       "    .dataframe tbody tr th:only-of-type {\n",
       "        vertical-align: middle;\n",
       "    }\n",
       "\n",
       "    .dataframe tbody tr th {\n",
       "        vertical-align: top;\n",
       "    }\n",
       "\n",
       "    .dataframe thead th {\n",
       "        text-align: right;\n",
       "    }\n",
       "</style>\n",
       "<table border=\"1\" class=\"dataframe\">\n",
       "  <thead>\n",
       "    <tr style=\"text-align: right;\">\n",
       "      <th></th>\n",
       "      <th>vidid</th>\n",
       "      <th>adview</th>\n",
       "      <th>views</th>\n",
       "      <th>likes</th>\n",
       "      <th>dislikes</th>\n",
       "      <th>comment</th>\n",
       "      <th>published</th>\n",
       "      <th>duration</th>\n",
       "      <th>category</th>\n",
       "    </tr>\n",
       "  </thead>\n",
       "  <tbody>\n",
       "    <tr>\n",
       "      <th>0</th>\n",
       "      <td>6078</td>\n",
       "      <td>40</td>\n",
       "      <td>1031602</td>\n",
       "      <td>8523</td>\n",
       "      <td>363</td>\n",
       "      <td>1095</td>\n",
       "      <td>2170</td>\n",
       "      <td>2993</td>\n",
       "      <td>6</td>\n",
       "    </tr>\n",
       "    <tr>\n",
       "      <th>1</th>\n",
       "      <td>2869</td>\n",
       "      <td>2</td>\n",
       "      <td>1707</td>\n",
       "      <td>56</td>\n",
       "      <td>2</td>\n",
       "      <td>6</td>\n",
       "      <td>2187</td>\n",
       "      <td>3108</td>\n",
       "      <td>4</td>\n",
       "    </tr>\n",
       "    <tr>\n",
       "      <th>2</th>\n",
       "      <td>8339</td>\n",
       "      <td>1</td>\n",
       "      <td>2023</td>\n",
       "      <td>25</td>\n",
       "      <td>0</td>\n",
       "      <td>2</td>\n",
       "      <td>2096</td>\n",
       "      <td>1910</td>\n",
       "      <td>3</td>\n",
       "    </tr>\n",
       "    <tr>\n",
       "      <th>3</th>\n",
       "      <td>9215</td>\n",
       "      <td>6</td>\n",
       "      <td>620860</td>\n",
       "      <td>777</td>\n",
       "      <td>161</td>\n",
       "      <td>153</td>\n",
       "      <td>2121</td>\n",
       "      <td>2603</td>\n",
       "      <td>8</td>\n",
       "    </tr>\n",
       "    <tr>\n",
       "      <th>4</th>\n",
       "      <td>123</td>\n",
       "      <td>1</td>\n",
       "      <td>666</td>\n",
       "      <td>1</td>\n",
       "      <td>0</td>\n",
       "      <td>0</td>\n",
       "      <td>2093</td>\n",
       "      <td>2018</td>\n",
       "      <td>4</td>\n",
       "    </tr>\n",
       "  </tbody>\n",
       "</table>\n",
       "</div>"
      ],
      "text/plain": [
       "   vidid  adview    views  likes  dislikes  comment  published  duration  \\\n",
       "0   6078      40  1031602   8523       363     1095       2170      2993   \n",
       "1   2869       2     1707     56         2        6       2187      3108   \n",
       "2   8339       1     2023     25         0        2       2096      1910   \n",
       "3   9215       6   620860    777       161      153       2121      2603   \n",
       "4    123       1      666      1         0        0       2093      2018   \n",
       "\n",
       "   category  \n",
       "0         6  \n",
       "1         4  \n",
       "2         3  \n",
       "3         8  \n",
       "4         4  "
      ]
     },
     "execution_count": 51,
     "metadata": {},
     "output_type": "execute_result"
    }
   ],
   "source": [
    "# Endoding features like Category, Duration, Vidid\n",
    "from sklearn.preprocessing import LabelEncoder\n",
    "dataset['duration'] = LabelEncoder().fit_transform(dataset['duration'])\n",
    "dataset['vidid']    = LabelEncoder().fit_transform(dataset['vidid'])\n",
    "dataset['published']= LabelEncoder().fit_transform(dataset['published'])\n",
    "dataset.head()"
   ]
  },
  {
   "cell_type": "markdown",
   "metadata": {},
   "source": [
    "Label Encoder actually ruined the duration column, to make it readable we need -"
   ]
  },
  {
   "cell_type": "code",
   "execution_count": 52,
   "metadata": {},
   "outputs": [
    {
     "data": {
      "text/html": [
       "<div>\n",
       "<style scoped>\n",
       "    .dataframe tbody tr th:only-of-type {\n",
       "        vertical-align: middle;\n",
       "    }\n",
       "\n",
       "    .dataframe tbody tr th {\n",
       "        vertical-align: top;\n",
       "    }\n",
       "\n",
       "    .dataframe thead th {\n",
       "        text-align: right;\n",
       "    }\n",
       "</style>\n",
       "<table border=\"1\" class=\"dataframe\">\n",
       "  <thead>\n",
       "    <tr style=\"text-align: right;\">\n",
       "      <th></th>\n",
       "      <th>vidid</th>\n",
       "      <th>adview</th>\n",
       "      <th>views</th>\n",
       "      <th>likes</th>\n",
       "      <th>dislikes</th>\n",
       "      <th>comment</th>\n",
       "      <th>published</th>\n",
       "      <th>duration</th>\n",
       "      <th>category</th>\n",
       "    </tr>\n",
       "  </thead>\n",
       "  <tbody>\n",
       "    <tr>\n",
       "      <th>0</th>\n",
       "      <td>6078</td>\n",
       "      <td>40</td>\n",
       "      <td>1031602</td>\n",
       "      <td>8523</td>\n",
       "      <td>363</td>\n",
       "      <td>1095</td>\n",
       "      <td>2170</td>\n",
       "      <td>457</td>\n",
       "      <td>6</td>\n",
       "    </tr>\n",
       "    <tr>\n",
       "      <th>1</th>\n",
       "      <td>2869</td>\n",
       "      <td>2</td>\n",
       "      <td>1707</td>\n",
       "      <td>56</td>\n",
       "      <td>2</td>\n",
       "      <td>6</td>\n",
       "      <td>2187</td>\n",
       "      <td>570</td>\n",
       "      <td>4</td>\n",
       "    </tr>\n",
       "    <tr>\n",
       "      <th>2</th>\n",
       "      <td>8339</td>\n",
       "      <td>1</td>\n",
       "      <td>2023</td>\n",
       "      <td>25</td>\n",
       "      <td>0</td>\n",
       "      <td>2</td>\n",
       "      <td>2096</td>\n",
       "      <td>136</td>\n",
       "      <td>3</td>\n",
       "    </tr>\n",
       "    <tr>\n",
       "      <th>3</th>\n",
       "      <td>9215</td>\n",
       "      <td>6</td>\n",
       "      <td>620860</td>\n",
       "      <td>777</td>\n",
       "      <td>161</td>\n",
       "      <td>153</td>\n",
       "      <td>2121</td>\n",
       "      <td>262</td>\n",
       "      <td>8</td>\n",
       "    </tr>\n",
       "    <tr>\n",
       "      <th>4</th>\n",
       "      <td>123</td>\n",
       "      <td>1</td>\n",
       "      <td>666</td>\n",
       "      <td>1</td>\n",
       "      <td>0</td>\n",
       "      <td>0</td>\n",
       "      <td>2093</td>\n",
       "      <td>31</td>\n",
       "      <td>4</td>\n",
       "    </tr>\n",
       "  </tbody>\n",
       "</table>\n",
       "</div>"
      ],
      "text/plain": [
       "   vidid  adview    views  likes  dislikes  comment  published  duration  \\\n",
       "0   6078      40  1031602   8523       363     1095       2170       457   \n",
       "1   2869       2     1707     56         2        6       2187       570   \n",
       "2   8339       1     2023     25         0        2       2096       136   \n",
       "3   9215       6   620860    777       161      153       2121       262   \n",
       "4    123       1      666      1         0        0       2093        31   \n",
       "\n",
       "   category  \n",
       "0         6  \n",
       "1         4  \n",
       "2         3  \n",
       "3         8  \n",
       "4         4  "
      ]
     },
     "execution_count": 52,
     "metadata": {},
     "output_type": "execute_result"
    }
   ],
   "source": [
    "# Convert Time_in_sec for duration\n",
    "import time\n",
    "def checki(x):\n",
    "    y = x[2:]\n",
    "    h = ''\n",
    "    m = ''\n",
    "    s = ''\n",
    "    mm = ''\n",
    "    P = ['H', 'M', 'S']\n",
    "    for i in y:\n",
    "        if i not in P:\n",
    "            mm += i\n",
    "        else:\n",
    "            if(i == \"H\"):\n",
    "                h = mm\n",
    "                mm = ''\n",
    "            elif(i == \"M\"):\n",
    "                m = mm\n",
    "                mm = ''\n",
    "            else:\n",
    "                s = mm\n",
    "                mm = ''\n",
    "    if(h == ''):\n",
    "        h = '00'\n",
    "    if(m == ''):\n",
    "        m = '00'\n",
    "    if(s == ''):\n",
    "        s = '00'\n",
    "    bp = h+':'+m+':'+s\n",
    "    return bp\n",
    "\n",
    "\n",
    "mp = pd.read_csv(\"test.csv\")[\"duration\"]\n",
    "time = mp.apply(checki)\n",
    "\n",
    "\n",
    "def func_sec(time_string):\n",
    "    h, m, s = time_string.split(':')\n",
    "    return int(h) * 3600 + int(m) * 60 + int(s)\n",
    "\n",
    "\n",
    "time1 = time.apply(func_sec)\n",
    "dataset[\"duration\"] = time1\n",
    "dataset.head()\n"
   ]
  },
  {
   "cell_type": "markdown",
   "metadata": {},
   "source": [
    "## Visualizing the data"
   ]
  },
  {
   "cell_type": "code",
   "execution_count": 53,
   "metadata": {},
   "outputs": [
    {
     "name": "stdout",
     "output_type": "stream",
     "text": [
      "There are 8 categories : \n"
     ]
    },
    {
     "data": {
      "image/png": "[encoded data removed]",
      "text/plain": [
       "<Figure size 432x288 with 1 Axes>"
      ]
     },
     "metadata": {
      "needs_background": "light"
     },
     "output_type": "display_data"
    },
    {
     "data": {
      "image/png": "[encoded data removed]",
      "text/plain": [
       "<Figure size 432x288 with 1 Axes>"
      ]
     },
     "metadata": {
      "needs_background": "light"
     },
     "output_type": "display_data"
    }
   ],
   "source": [
    "print(\"There are 8 categories : \")\n",
    "plt.hist(dataset[\"category\"])\n",
    "plt.xlabel(\"Category number\"); plt.ylabel(\"Frequency\"); plt.title(\"Category\")\n",
    "plt.show()\n",
    "plt.plot(dataset[\"adview\"])\n",
    "plt.xlabel(\"Index of video\"); plt.ylabel(\"Views in million\"); plt.title(\"Adview\")\n",
    "plt.show()"
   ]
  },
  {
   "cell_type": "markdown",
   "metadata": {},
   "source": [
    "Here we can see that one video had abnormally high number of adviews, let's see which video is it, and we should remove it as it is an outlier."
   ]
  },
  {
   "cell_type": "code",
   "execution_count": 54,
   "metadata": {},
   "outputs": [
    {
     "name": "stdout",
     "output_type": "stream",
     "text": [
      "Much better : \n"
     ]
    },
    {
     "data": {
      "image/png": "[encoded data removed]",
      "text/plain": [
       "<Figure size 432x288 with 1 Axes>"
      ]
     },
     "metadata": {
      "needs_background": "light"
     },
     "output_type": "display_data"
    }
   ],
   "source": [
    "dataset = dataset[dataset[\"adview\"] <2e6]\n",
    "print(\"Much better : \")\n",
    "plt.plot(dataset[\"adview\"])\n",
    "plt.xlabel(\"Index of video\"); plt.ylabel(\"Views in million\"); plt.title(\"Adview\")\n",
    "plt.show()"
   ]
  },
  {
   "cell_type": "markdown",
   "metadata": {},
   "source": [
    "### Correlation heatmap"
   ]
  },
  {
   "cell_type": "code",
   "execution_count": 55,
   "metadata": {},
   "outputs": [
    {
     "data": {
      "image/png": "[encoded data removed]",
      "text/plain": [
       "<Figure size 720x576 with 2 Axes>"
      ]
     },
     "metadata": {
      "needs_background": "light"
     },
     "output_type": "display_data"
    }
   ],
   "source": [
    "f, ax = plt.subplots(figsize=(10, 8))\n",
    "corr = dataset.corr()\n",
    "sns.heatmap(corr, mask=np.zeros_like(corr, dtype=bool), cmap=sns.diverging_palette(220, 10, as_cmap=True),\n",
    "            square=True, ax=ax, annot=True)\n",
    "plt.show()\n"
   ]
  },
  {
   "cell_type": "markdown",
   "metadata": {},
   "source": [
    "## Machine Learning"
   ]
  },
  {
   "cell_type": "code",
   "execution_count": 56,
   "metadata": {},
   "outputs": [
    {
     "name": "stdout",
     "output_type": "stream",
     "text": [
      "     views  likes  dislikes  comment  published  duration  category\n",
      "0  1031602   8523       363     1095       2170       457         6\n",
      "1     1707     56         2        6       2187       570         4\n",
      "2     2023     25         0        2       2096       136         3\n",
      "3   620860    777       161      153       2121       262         8\n",
      "4      666      1         0        0       2093        31         4\n",
      "   target\n",
      "0      40\n",
      "1       2\n",
      "2       1\n",
      "3       6\n",
      "4       1\n",
      "shape of dataset: (14998, 7)\n",
      "shape of Y_train: (14998, 1)\n"
     ]
    }
   ],
   "source": [
    "# Split Data\n",
    "Y_train = pd.DataFrame(data=dataset.iloc[:, 1].values, columns=['target'])\n",
    "dataset = dataset.drop([\"adview\"], axis=1)\n",
    "dataset = dataset.drop([\"vidid\"], axis=1)\n",
    "print(dataset.head())\n",
    "print(Y_train.head())\n",
    "print(f\"shape of dataset: {dataset.shape}\")\n",
    "print(f\"shape of Y_train: {Y_train.shape}\")"
   ]
  },
  {
   "cell_type": "code",
   "execution_count": 57,
   "metadata": {},
   "outputs": [
    {
     "name": "stdout",
     "output_type": "stream",
     "text": [
      "        views  likes  dislikes  comment  published  duration  category\n",
      "9838   377366    308        98       22       1706      8845         4\n",
      "7688   222728   5102       339      594       2104       200         6\n",
      "6556     2088      2         0        1       1168       661         5\n",
      "11324   17200     10         3        0        698       205         6\n",
      "820     16565     31         6        1       2168        97         3\n",
      "         views  likes  dislikes  comment  published  duration  category\n",
      "13413    95288    219        10       11        579       339         4\n",
      "6472   1043098   1640       496      117       2122       320         4\n",
      "9968    728229   1088       219       59       2154      9447         4\n",
      "862    1199250   4609       266      227       1638       253         4\n",
      "5967    330754   1482       210     1765       1808      3328         3\n",
      "       target\n",
      "9837       39\n",
      "7688        2\n",
      "6556        1\n",
      "11323       1\n",
      "820      1445\n",
      "       target\n",
      "13412      20\n",
      "6472        2\n",
      "9967        1\n",
      "862         4\n",
      "5967        1\n",
      "shape of X_train: (11998, 7)\n",
      "shape of X_test: (3000, 7)\n",
      "shape of y_train: (11998, 1)\n",
      "shape of y_test: (3000, 1)\n"
     ]
    }
   ],
   "source": [
    "from sklearn.model_selection import train_test_split\n",
    "X_train, X_test, y_train, y_test = train_test_split(dataset, Y_train, test_size=0.2, random_state=42)\n",
    "print(X_train.head())\n",
    "print(X_test.head())\n",
    "print(y_train.head())\n",
    "print(y_test.head())\n",
    "print(f\"shape of X_train: {X_train.shape}\")\n",
    "print(f\"shape of X_test: {X_test.shape}\")\n",
    "print(f\"shape of y_train: {y_train.shape}\")\n",
    "print(f\"shape of y_test: {y_test.shape}\")\n"
   ]
  },
  {
   "cell_type": "code",
   "execution_count": 58,
   "metadata": {},
   "outputs": [
    {
     "name": "stdout",
     "output_type": "stream",
     "text": [
      "0.1737401166887309\n",
      "shape of X_train: (11998, 7)\n",
      "shape of X_test: (3000, 7)\n"
     ]
    }
   ],
   "source": [
    "# Normalise Data\n",
    "from sklearn.preprocessing import MinMaxScaler\n",
    "scaler = MinMaxScaler()\n",
    "X_train = scaler.fit_transform(X_train)\n",
    "X_test = scaler.fit_transform(X_test)\n",
    "print(X_train.mean())\n",
    "print(f\"shape of X_train: {X_train.shape}\")\n",
    "print(f\"shape of X_test: {X_test.shape}\")"
   ]
  },
  {
   "cell_type": "code",
   "execution_count": 59,
   "metadata": {},
   "outputs": [],
   "source": [
    "# Evaluation Metrics\n",
    "from sklearn import metrics\n",
    "\n",
    "def print_error(X_test, y_test, model_name):\n",
    "    prediction = model_name.predict(X_test)\n",
    "    print('Mean Absolute Error:', metrics.mean_absolute_error(y_test, prediction))\n",
    "    print('Mean Squared Error:', metrics.mean_squared_error(y_test, prediction))\n",
    "    print('Root Mean Squared Error:', np.sqrt(metrics.mean_squared_error(y_test, prediction)))\n"
   ]
  },
  {
   "cell_type": "code",
   "execution_count": 60,
   "metadata": {},
   "outputs": [
    {
     "name": "stdout",
     "output_type": "stream",
     "text": [
      "Mean Absolute Error: 3516.5746519212194\n",
      "Mean Squared Error: 879568906.4833322\n",
      "Root Mean Squared Error: 29657.5269785485\n"
     ]
    }
   ],
   "source": [
    "# Linear Regression\n",
    "from sklearn import linear_model\n",
    "linear_regression = linear_model.LinearRegression()\n",
    "linear_regression.fit(X_train, y_train)\n",
    "print_error(X_test,y_test, linear_regression)"
   ]
  },
  {
   "cell_type": "code",
   "execution_count": 61,
   "metadata": {},
   "outputs": [
    {
     "name": "stderr",
     "output_type": "stream",
     "text": [
      "/Library/Frameworks/Python.framework/Versions/3.10/lib/python3.10/site-packages/sklearn/utils/validation.py:993: DataConversionWarning: A column-vector y was passed when a 1d array was expected. Please change the shape of y to (n_samples, ), for example using ravel().\n",
      "  y = column_or_1d(y, warn=True)\n"
     ]
    },
    {
     "name": "stdout",
     "output_type": "stream",
     "text": [
      "Mean Absolute Error: 3516.5746519212194\n",
      "Mean Squared Error: 879568906.4833322\n",
      "Root Mean Squared Error: 29657.5269785485\n"
     ]
    }
   ],
   "source": [
    "# Support Vector Regressor\n",
    "from sklearn.svm import SVR\n",
    "supportvector_regressor = SVR()\n",
    "supportvector_regressor.fit(X_train,y_train)\n",
    "print_error(X_test,y_test, linear_regression)"
   ]
  },
  {
   "cell_type": "code",
   "execution_count": 62,
   "metadata": {},
   "outputs": [
    {
     "name": "stdout",
     "output_type": "stream",
     "text": [
      "Mean Absolute Error: 2307.2556666666665\n",
      "Mean Squared Error: 735978773.7516667\n",
      "Root Mean Squared Error: 27128.928724733432\n"
     ]
    }
   ],
   "source": [
    "# Decision Tree Regressor\n",
    "from sklearn.tree import DecisionTreeRegressor\n",
    "decision_tree = DecisionTreeRegressor()\n",
    "decision_tree.fit(X_train, y_train)\n",
    "print_error(X_test,y_test, decision_tree)"
   ]
  },
  {
   "cell_type": "code",
   "execution_count": 63,
   "metadata": {},
   "outputs": [
    {
     "name": "stderr",
     "output_type": "stream",
     "text": [
      "/var/folders/vf/3kvlfy4x5ls1s64fxvnlksgm0000gn/T/ipykernel_1960/3887178697.py:8: DataConversionWarning: A column-vector y was passed when a 1d array was expected. Please change the shape of y to (n_samples,), for example using ravel().\n",
      "  random_forest.fit(X_train, y_train)\n"
     ]
    },
    {
     "name": "stdout",
     "output_type": "stream",
     "text": [
      "Mean Absolute Error: 3062.345146581204\n",
      "Mean Squared Error: 846824096.9255252\n",
      "Root Mean Squared Error: 29100.242214207174\n"
     ]
    }
   ],
   "source": [
    "# Random Forest Regressor\n",
    "from sklearn.ensemble import RandomForestRegressor\n",
    "n_estimators = 200\n",
    "max_depth = 25\n",
    "min_samples_split = 15\n",
    "min_samples_leaf = 2\n",
    "random_forest = RandomForestRegressor(n_estimators=n_estimators, max_depth=max_depth, min_samples_split=min_samples_split)\n",
    "random_forest.fit(X_train, y_train)\n",
    "print_error(X_test, y_test, random_forest)\n"
   ]
  },
  {
   "cell_type": "code",
   "execution_count": 64,
   "metadata": {},
   "outputs": [],
   "source": [
    "## Artificial Neural Network\n",
    "# import keras\n",
    "# from keras.layers import Dense\n",
    "# ann = keras.models.Sequential([\n",
    "#                                 Dense(6, activation=\"relu\",\n",
    "#                                 input_shape=X_train.shape[1:]),\n",
    "#                                 Dense(6, activation=\"relu\"),\n",
    "#                                 Dense(1)\n",
    "#                             ])\n",
    "# optimizer = keras.optimizers.Adam()\n",
    "# loss = keras.losses.mean_squared_error\n",
    "# ann.compile(optimizer=optimizer, loss=loss, metrics=[\"mean_squared_error\"])\n",
    "# history = ann.fit(X_train, y_train, epochs=100)\n",
    "# ann.summary()\n",
    "# print_error(X_test, y_test, ann)\n"
   ]
  },
  {
   "cell_type": "code",
   "execution_count": 65,
   "metadata": {},
   "outputs": [],
   "source": [
    "# #Saving Scikitlearn models\n",
    "# import joblib\n",
    "# joblib.dump(decision_tree, \"decisiontree_youtubeadview.pkl\")\n",
    "\n",
    "# # Saving Keras Artificial Neural Network model\n",
    "# ann.save(\"ann_youtubeadview.h5\")"
   ]
  },
  {
   "cell_type": "markdown",
   "metadata": {},
   "source": [
    "## Now we need to predict the adviews for `for_train.csv` file"
   ]
  },
  {
   "cell_type": "markdown",
   "metadata": {},
   "source": [
    "You can download from [here](https://internshipstudio.com/wp-content/uploads/2020/10/test.csv)"
   ]
  },
  {
   "cell_type": "code",
   "execution_count": 66,
   "metadata": {},
   "outputs": [],
   "source": [
    "# Run this if you don't already have for_train.csv ???\n",
    "# url = \"https://internshipstudio.com/wp-content/uploads/2020/10/test.csv\""
   ]
  },
  {
   "cell_type": "code",
   "execution_count": 67,
   "metadata": {},
   "outputs": [
    {
     "data": {
      "text/html": [
       "<div>\n",
       "<style scoped>\n",
       "    .dataframe tbody tr th:only-of-type {\n",
       "        vertical-align: middle;\n",
       "    }\n",
       "\n",
       "    .dataframe tbody tr th {\n",
       "        vertical-align: top;\n",
       "    }\n",
       "\n",
       "    .dataframe thead th {\n",
       "        text-align: right;\n",
       "    }\n",
       "</style>\n",
       "<table border=\"1\" class=\"dataframe\">\n",
       "  <thead>\n",
       "    <tr style=\"text-align: right;\">\n",
       "      <th></th>\n",
       "      <th>vidid</th>\n",
       "      <th>views</th>\n",
       "      <th>likes</th>\n",
       "      <th>dislikes</th>\n",
       "      <th>comment</th>\n",
       "      <th>published</th>\n",
       "      <th>duration</th>\n",
       "      <th>category</th>\n",
       "    </tr>\n",
       "  </thead>\n",
       "  <tbody>\n",
       "    <tr>\n",
       "      <th>780</th>\n",
       "      <td>VID_734</td>\n",
       "      <td>2268503</td>\n",
       "      <td>5635</td>\n",
       "      <td>258</td>\n",
       "      <td>150</td>\n",
       "      <td>2016-02-26</td>\n",
       "      <td>PT5M29S</td>\n",
       "      <td>B</td>\n",
       "    </tr>\n",
       "    <tr>\n",
       "      <th>5211</th>\n",
       "      <td>VID_1660</td>\n",
       "      <td>484593</td>\n",
       "      <td>1885</td>\n",
       "      <td>109</td>\n",
       "      <td>310</td>\n",
       "      <td>2016-07-25</td>\n",
       "      <td>PT3M58S</td>\n",
       "      <td>B</td>\n",
       "    </tr>\n",
       "    <tr>\n",
       "      <th>2549</th>\n",
       "      <td>VID_9075</td>\n",
       "      <td>166568</td>\n",
       "      <td>242</td>\n",
       "      <td>71</td>\n",
       "      <td>11</td>\n",
       "      <td>2015-03-15</td>\n",
       "      <td>PT45M44S</td>\n",
       "      <td>D</td>\n",
       "    </tr>\n",
       "  </tbody>\n",
       "</table>\n",
       "</div>"
      ],
      "text/plain": [
       "         vidid    views likes dislikes comment   published  duration category\n",
       "780    VID_734  2268503  5635      258     150  2016-02-26   PT5M29S        B\n",
       "5211  VID_1660   484593  1885      109     310  2016-07-25   PT3M58S        B\n",
       "2549  VID_9075   166568   242       71      11  2015-03-15  PT45M44S        D"
      ]
     },
     "execution_count": 67,
     "metadata": {},
     "output_type": "execute_result"
    }
   ],
   "source": [
    "validation = pd.read_csv(\"for_train.csv\")\n",
    "validation.shape\n",
    "validation.sample(3)"
   ]
  },
  {
   "cell_type": "markdown",
   "metadata": {},
   "source": [
    "Cleaning the validation dataset - "
   ]
  },
  {
   "cell_type": "code",
   "execution_count": 68,
   "metadata": {},
   "outputs": [
    {
     "data": {
      "text/html": [
       "<div>\n",
       "<style scoped>\n",
       "    .dataframe tbody tr th:only-of-type {\n",
       "        vertical-align: middle;\n",
       "    }\n",
       "\n",
       "    .dataframe tbody tr th {\n",
       "        vertical-align: top;\n",
       "    }\n",
       "\n",
       "    .dataframe thead th {\n",
       "        text-align: right;\n",
       "    }\n",
       "</style>\n",
       "<table border=\"1\" class=\"dataframe\">\n",
       "  <thead>\n",
       "    <tr style=\"text-align: right;\">\n",
       "      <th></th>\n",
       "      <th>vidid</th>\n",
       "      <th>views</th>\n",
       "      <th>likes</th>\n",
       "      <th>dislikes</th>\n",
       "      <th>comment</th>\n",
       "      <th>published</th>\n",
       "      <th>duration</th>\n",
       "      <th>category</th>\n",
       "    </tr>\n",
       "  </thead>\n",
       "  <tbody>\n",
       "    <tr>\n",
       "      <th>2687</th>\n",
       "      <td>4034</td>\n",
       "      <td>10726</td>\n",
       "      <td>36</td>\n",
       "      <td>1</td>\n",
       "      <td>0</td>\n",
       "      <td>170</td>\n",
       "      <td>705</td>\n",
       "      <td>7</td>\n",
       "    </tr>\n",
       "    <tr>\n",
       "      <th>6471</th>\n",
       "      <td>8129</td>\n",
       "      <td>56111</td>\n",
       "      <td>156</td>\n",
       "      <td>6</td>\n",
       "      <td>11</td>\n",
       "      <td>997</td>\n",
       "      <td>327</td>\n",
       "      <td>4</td>\n",
       "    </tr>\n",
       "    <tr>\n",
       "      <th>4791</th>\n",
       "      <td>585</td>\n",
       "      <td>555132</td>\n",
       "      <td>652</td>\n",
       "      <td>140</td>\n",
       "      <td>255</td>\n",
       "      <td>1621</td>\n",
       "      <td>705</td>\n",
       "      <td>4</td>\n",
       "    </tr>\n",
       "  </tbody>\n",
       "</table>\n",
       "</div>"
      ],
      "text/plain": [
       "      vidid   views  likes  dislikes  comment  published  duration  category\n",
       "2687   4034   10726     36         1        0        170       705         7\n",
       "6471   8129   56111    156         6       11        997       327         4\n",
       "4791    585  555132    652       140      255       1621       705         4"
      ]
     },
     "execution_count": 68,
     "metadata": {},
     "output_type": "execute_result"
    }
   ],
   "source": [
    "validation[[\"views\", \"likes\", \"dislikes\", \"comment\"]] = validation[[\"views\", \"likes\", \"dislikes\", \"comment\"]].replace(\"F\", 0)\n",
    "# validation[\"views\"] = validation[validation.views!=\"F\"] # Another way\n",
    "validation[\"views\"]     = pd.to_numeric(validation[\"views\"])\n",
    "validation[\"likes\"]     = pd.to_numeric(validation[\"likes\"])\n",
    "validation[\"dislikes\"]  = pd.to_numeric(validation[\"dislikes\"])\n",
    "validation[\"comment\"]   = pd.to_numeric(validation[\"comment\"])\n",
    "validation[\"published\"] = pd.to_datetime(validation[\"published\"])\n",
    "\n",
    "# Map category to numbers\n",
    "category = {'A':1, 'B':2, 'C':3, 'D':4, 'E':5, 'F':6, 'G':7, 'H':8}\n",
    "validation[\"category\"] = validation[\"category\"].map(category)\n",
    "\n",
    "# Endoding features like published, Vidid\n",
    "from sklearn.preprocessing import LabelEncoder\n",
    "validation['vidid']    = LabelEncoder().fit_transform(validation['vidid'])\n",
    "validation['published']= LabelEncoder().fit_transform(validation['published'])\n",
    "\n",
    "# Convert Time_in_sec for duration\n",
    "import time\n",
    "def checki(x):\n",
    "    y = x[2:]\n",
    "    h = ''\n",
    "    m = ''\n",
    "    s = ''\n",
    "    mm = ''\n",
    "    P = ['H', 'M', 'S']\n",
    "    for i in y:\n",
    "        if i not in P:\n",
    "            mm += i\n",
    "        else:\n",
    "            if(i == \"H\"):\n",
    "                h = mm\n",
    "                mm = ''\n",
    "            elif(i == \"M\"):\n",
    "                m = mm\n",
    "                mm = ''\n",
    "            else:\n",
    "                s = mm\n",
    "                mm = ''\n",
    "    if(h == ''):\n",
    "        h = '00'\n",
    "    if(m == ''):\n",
    "        m = '00'\n",
    "    if(s == ''):\n",
    "        s = '00'\n",
    "    bp = h+':'+m+':'+s\n",
    "    return bp\n",
    "\n",
    "\n",
    "mp = pd.read_csv(\"for_train.csv\")[\"duration\"]\n",
    "time = mp.apply(checki)\n",
    "\n",
    "\n",
    "def func_sec(time_string):\n",
    "    h, m, s = time_string.split(':')\n",
    "    return int(h) * 3600 + int(m) * 60 + int(s)\n",
    "\n",
    "\n",
    "time1 = time.apply(func_sec)\n",
    "validation[\"duration\"] = time1\n",
    "validation.sample(3)\n"
   ]
  },
  {
   "cell_type": "code",
   "execution_count": 69,
   "metadata": {},
   "outputs": [
    {
     "data": {
      "text/plain": [
       "(8764, 7)"
      ]
     },
     "execution_count": 69,
     "metadata": {},
     "output_type": "execute_result"
    }
   ],
   "source": [
    "# Finally drop vidid column\n",
    "validation_y = pd.DataFrame(data=validation.iloc[:, 1].values, columns=['target'])\n",
    "validation = validation.drop([\"vidid\"], axis=1)\n",
    "validation.shape"
   ]
  },
  {
   "cell_type": "code",
   "execution_count": 70,
   "metadata": {},
   "outputs": [
    {
     "name": "stdout",
     "output_type": "stream",
     "text": [
      "shape of validation_test: (7011, 7)\n",
      "shape of y_test: (7011, 1)\n"
     ]
    }
   ],
   "source": [
    "validation_test, _, validation_y_test, _  = train_test_split(validation, validation_y, test_size=0.2, random_state=42)\n",
    "print(f\"shape of validation_test: {validation_test.shape}\")\n",
    "print(f\"shape of y_test: {validation_y_test.shape}\")"
   ]
  },
  {
   "cell_type": "code",
   "execution_count": 75,
   "metadata": {},
   "outputs": [
    {
     "name": "stdout",
     "output_type": "stream",
     "text": [
      "Error with linear regresson model = \n",
      "Mean Absolute Error: 1878833980.734419\n",
      "Mean Squared Error: 1.0632585868956498e+20\n",
      "Root Mean Squared Error: 10311443094.424997\n",
      "----------------------------------------------------------------------------------------------------\n",
      "Error with support vector regressor model = \n"
     ]
    },
    {
     "name": "stderr",
     "output_type": "stream",
     "text": [
      "/Library/Frameworks/Python.framework/Versions/3.10/lib/python3.10/site-packages/sklearn/base.py:443: UserWarning: X has feature names, but LinearRegression was fitted without feature names\n",
      "  warnings.warn(\n",
      "/Library/Frameworks/Python.framework/Versions/3.10/lib/python3.10/site-packages/sklearn/base.py:443: UserWarning: X has feature names, but SVR was fitted without feature names\n",
      "  warnings.warn(\n"
     ]
    },
    {
     "name": "stdout",
     "output_type": "stream",
     "text": [
      "Mean Absolute Error: 756066.3626017892\n",
      "Mean Squared Error: 15959025447475.26\n",
      "Root Mean Squared Error: 3994874.8976000813\n",
      "----------------------------------------------------------------------------------------------------\n",
      "Error with decison tree regressor model = \n",
      "Mean Absolute Error: 756013.1657395521\n",
      "Mean Squared Error: 15958944438652.723\n",
      "Root Mean Squared Error: 3994864.758493424\n",
      "----------------------------------------------------------------------------------------------------\n",
      "Error with random forest regressor model = \n",
      "Mean Absolute Error: 716350.3352055569\n",
      "Mean Squared Error: 15824255538941.398\n",
      "Root Mean Squared Error: 3977971.284328407\n",
      "----------------------------------------------------------------------------------------------------\n"
     ]
    },
    {
     "name": "stderr",
     "output_type": "stream",
     "text": [
      "/Library/Frameworks/Python.framework/Versions/3.10/lib/python3.10/site-packages/sklearn/base.py:443: UserWarning: X has feature names, but DecisionTreeRegressor was fitted without feature names\n",
      "  warnings.warn(\n",
      "/Library/Frameworks/Python.framework/Versions/3.10/lib/python3.10/site-packages/sklearn/base.py:443: UserWarning: X has feature names, but RandomForestRegressor was fitted without feature names\n",
      "  warnings.warn(\n"
     ]
    }
   ],
   "source": [
    "print(\"Error with linear regresson model = \")\n",
    "print_error(validation_test, validation_y_test, linear_regression)\n",
    "print(\"-\"*100)\n",
    "print(\"Error with support vector regressor model = \")\n",
    "print_error(validation_test, validation_y_test, supportvector_regressor)\n",
    "print(\"-\"*100)\n",
    "print(\"Error with decison tree regressor model = \")\n",
    "print_error(validation_test, validation_y_test, decision_tree)\n",
    "print(\"-\"*100)\n",
    "print(\"Error with random forest regressor model = \")\n",
    "print_error(validation_test, validation_y_test, random_forest)\n",
    "print(\"-\"*100)\n",
    "# print(f\"Error with artificial neural network model = {print_error(validation, validation_y_test, ann)}\")\n"
   ]
  },
  {
   "cell_type": "code",
   "execution_count": null,
   "metadata": {},
   "outputs": [],
   "source": []
  }
 ],
 "metadata": {
  "interpreter": {
   "hash": "aee8b7b246df8f9039afb4144a1f6fd8d2ca17a180786b69acc140d282b71a49"
  },
  "kernelspec": {
   "display_name": "Python 3.10.0 64-bit",
   "language": "python",
   "name": "python3"
  },
  "language_info": {
   "codemirror_mode": {
    "name": "ipython",
    "version": 3
   },
   "file_extension": ".py",
   "mimetype": "text/x-python",
   "name": "python",
   "nbconvert_exporter": "python",
   "pygments_lexer": "ipython3",
   "version": "3.10.0"
  },
  "orig_nbformat": 4
 },
 "nbformat": 4,
 "nbformat_minor": 2
}
